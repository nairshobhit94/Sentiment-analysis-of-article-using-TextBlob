{
 "cells": [
  {
   "cell_type": "code",
   "execution_count": 1,
   "metadata": {},
   "outputs": [],
   "source": [
    "from textblob import TextBlob\n",
    "import nltk\n",
    "from newspaper import Article"
   ]
  },
  {
   "cell_type": "markdown",
   "metadata": {},
   "source": [
    "# Importing the article of the newspaper"
   ]
  },
  {
   "cell_type": "code",
   "execution_count": 2,
   "metadata": {},
   "outputs": [],
   "source": [
    "url=\"https://www.washingtonpost.com/opinions/2020/01/07/irans-retaliation-soleimani-is-race-toward-nuclear-bomb/\"\n",
    "article=Article(url)"
   ]
  },
  {
   "cell_type": "code",
   "execution_count": 3,
   "metadata": {},
   "outputs": [
    {
     "name": "stdout",
     "output_type": "stream",
     "text": [
      "[nltk_data] Downloading package punkt to\n",
      "[nltk_data]     C:\\Users\\Robinhood\\AppData\\Roaming\\nltk_data...\n",
      "[nltk_data]   Package punkt is already up-to-date!\n"
     ]
    }
   ],
   "source": [
    "article.download()\n",
    "article.parse()\n",
    "nltk.download(\"punkt\")\n",
    "article.nlp()"
   ]
  },
  {
   "cell_type": "markdown",
   "metadata": {},
   "source": [
    "# Reading the Article and Printing it"
   ]
  },
  {
   "cell_type": "code",
   "execution_count": 4,
   "metadata": {},
   "outputs": [
    {
     "name": "stdout",
     "output_type": "stream",
     "text": [
      "U.S. conflict with Iran: What you need to readHere’s what you need to know to understand what this moment means in U.S.-Iran relations.\n",
      "What happened: President Trump ordered a drone strike near the Baghdad airport, killing Maj. Gen. Qasem Soleimani, Iran’s most powerful military commander and leader of its special-operations forces abroad.\n",
      "Who was Soleimani: As the leader of the Revolutionary Guard Corps’ elite Quds Force, Soleimani was key in supporting and coordinating with Iran’s allies across the region, especially in Iraq.\n",
      "How we got here: Tensions had been escalating between Iran and the United States since Trump pulled out of an Obama-era nuclear deal, and they spiked shortly before the airstrike.\n",
      "What happens next: Iran responded to Soleimani’s death by launching missile strikes at two bases hosting U.S. forces in Iraq.\n"
     ]
    }
   ],
   "source": [
    "text=article.summary\n",
    "print(text)"
   ]
  },
  {
   "cell_type": "markdown",
   "metadata": {},
   "source": [
    "# Checking whether the sentence of the article is positive or negative"
   ]
  },
  {
   "cell_type": "code",
   "execution_count": 10,
   "metadata": {},
   "outputs": [
    {
     "data": {
      "text/plain": [
       "Sentiment(polarity=0.11666666666666664, subjectivity=0.5055555555555555)"
      ]
     },
     "execution_count": 10,
     "metadata": {},
     "output_type": "execute_result"
    }
   ],
   "source": [
    "obj=TextBlob(text)\n",
    "\n",
    "obj.sentiment"
   ]
  },
  {
   "cell_type": "markdown",
   "metadata": {},
   "source": [
    "# Parts of Speech Tagging"
   ]
  },
  {
   "cell_type": "code",
   "execution_count": 8,
   "metadata": {},
   "outputs": [
    {
     "data": {
      "text/plain": [
       "[('U.S.', 'NNP'),\n",
       " ('conflict', 'NN'),\n",
       " ('with', 'IN'),\n",
       " ('Iran', 'NNP'),\n",
       " ('What', 'WP'),\n",
       " ('you', 'PRP'),\n",
       " ('need', 'VBP'),\n",
       " ('to', 'TO'),\n",
       " ('readHere', 'VB'),\n",
       " ('’', 'NNP'),\n",
       " ('s', 'VB'),\n",
       " ('what', 'WP'),\n",
       " ('you', 'PRP'),\n",
       " ('need', 'VBP'),\n",
       " ('to', 'TO'),\n",
       " ('know', 'VB'),\n",
       " ('to', 'TO'),\n",
       " ('understand', 'VB'),\n",
       " ('what', 'WP'),\n",
       " ('this', 'DT'),\n",
       " ('moment', 'NN'),\n",
       " ('means', 'VBZ'),\n",
       " ('in', 'IN'),\n",
       " ('U.S.-Iran', 'JJ'),\n",
       " ('relations', 'NNS'),\n",
       " ('What', 'WP'),\n",
       " ('happened', 'VBD'),\n",
       " ('President', 'NNP'),\n",
       " ('Trump', 'NNP'),\n",
       " ('ordered', 'VBD'),\n",
       " ('a', 'DT'),\n",
       " ('drone', 'NN'),\n",
       " ('strike', 'NN'),\n",
       " ('near', 'IN'),\n",
       " ('the', 'DT'),\n",
       " ('Baghdad', 'NNP'),\n",
       " ('airport', 'NN'),\n",
       " ('killing', 'VBG'),\n",
       " ('Maj.', 'NNP'),\n",
       " ('Gen.', 'NNP'),\n",
       " ('Qasem', 'NNP'),\n",
       " ('Soleimani', 'NNP'),\n",
       " ('Iran', 'NNP'),\n",
       " ('’', 'NNP'),\n",
       " ('s', 'VBZ'),\n",
       " ('most', 'RBS'),\n",
       " ('powerful', 'JJ'),\n",
       " ('military', 'JJ'),\n",
       " ('commander', 'NN'),\n",
       " ('and', 'CC'),\n",
       " ('leader', 'NN'),\n",
       " ('of', 'IN'),\n",
       " ('its', 'PRP$'),\n",
       " ('special-operations', 'NNS'),\n",
       " ('forces', 'NNS'),\n",
       " ('abroad', 'RB'),\n",
       " ('Who', 'WP'),\n",
       " ('was', 'VBD'),\n",
       " ('Soleimani', 'NNP'),\n",
       " ('As', 'IN'),\n",
       " ('the', 'DT'),\n",
       " ('leader', 'NN'),\n",
       " ('of', 'IN'),\n",
       " ('the', 'DT'),\n",
       " ('Revolutionary', 'NNP'),\n",
       " ('Guard', 'NNP'),\n",
       " ('Corps', 'NNP'),\n",
       " ('’', 'NNP'),\n",
       " ('elite', 'VBP'),\n",
       " ('Quds', 'NNP'),\n",
       " ('Force', 'NNP'),\n",
       " ('Soleimani', 'NNP'),\n",
       " ('was', 'VBD'),\n",
       " ('key', 'VBN'),\n",
       " ('in', 'IN'),\n",
       " ('supporting', 'VBG'),\n",
       " ('and', 'CC'),\n",
       " ('coordinating', 'VBG'),\n",
       " ('with', 'IN'),\n",
       " ('Iran', 'NNP'),\n",
       " ('’', 'NNP'),\n",
       " ('s', 'JJ'),\n",
       " ('allies', 'NNS'),\n",
       " ('across', 'IN'),\n",
       " ('the', 'DT'),\n",
       " ('region', 'NN'),\n",
       " ('especially', 'RB'),\n",
       " ('in', 'IN'),\n",
       " ('Iraq', 'NNP'),\n",
       " ('How', 'WRB'),\n",
       " ('we', 'PRP'),\n",
       " ('got', 'VBD'),\n",
       " ('here', 'RB'),\n",
       " ('Tensions', 'NNS'),\n",
       " ('had', 'VBD'),\n",
       " ('been', 'VBN'),\n",
       " ('escalating', 'VBG'),\n",
       " ('between', 'IN'),\n",
       " ('Iran', 'NNP'),\n",
       " ('and', 'CC'),\n",
       " ('the', 'DT'),\n",
       " ('United', 'NNP'),\n",
       " ('States', 'NNPS'),\n",
       " ('since', 'IN'),\n",
       " ('Trump', 'NNP'),\n",
       " ('pulled', 'VBD'),\n",
       " ('out', 'RP'),\n",
       " ('of', 'IN'),\n",
       " ('an', 'DT'),\n",
       " ('Obama-era', 'JJ'),\n",
       " ('nuclear', 'JJ'),\n",
       " ('deal', 'NN'),\n",
       " ('and', 'CC'),\n",
       " ('they', 'PRP'),\n",
       " ('spiked', 'VBD'),\n",
       " ('shortly', 'RB'),\n",
       " ('before', 'IN'),\n",
       " ('the', 'DT'),\n",
       " ('airstrike', 'NN'),\n",
       " ('What', 'WP'),\n",
       " ('happens', 'VBZ'),\n",
       " ('next', 'JJ'),\n",
       " ('Iran', 'NN'),\n",
       " ('responded', 'VBD'),\n",
       " ('to', 'TO'),\n",
       " ('Soleimani', 'NNP'),\n",
       " ('’', 'NNP'),\n",
       " ('s', 'VBD'),\n",
       " ('death', 'NN'),\n",
       " ('by', 'IN'),\n",
       " ('launching', 'VBG'),\n",
       " ('missile', 'NN'),\n",
       " ('strikes', 'NNS'),\n",
       " ('at', 'IN'),\n",
       " ('two', 'CD'),\n",
       " ('bases', 'NNS'),\n",
       " ('hosting', 'VBG'),\n",
       " ('U.S.', 'NNP'),\n",
       " ('forces', 'NNS'),\n",
       " ('in', 'IN'),\n",
       " ('Iraq', 'NNP')]"
      ]
     },
     "execution_count": 8,
     "metadata": {},
     "output_type": "execute_result"
    }
   ],
   "source": [
    "obj.tags"
   ]
  },
  {
   "cell_type": "markdown",
   "metadata": {},
   "source": [
    "# Tokenization of the whole article"
   ]
  },
  {
   "cell_type": "code",
   "execution_count": 22,
   "metadata": {},
   "outputs": [
    {
     "data": {
      "text/plain": [
       "[Sentence(\"U.S. conflict with Iran: What you need to readHere’s what you need to know to understand what this moment means in U.S.-Iran relations.\"),\n",
       " Sentence(\"What happened: President Trump ordered a drone strike near the Baghdad airport, killing Maj. Gen. Qasem Soleimani, Iran’s most powerful military commander and leader of its special-operations forces abroad.\"),\n",
       " Sentence(\"Who was Soleimani: As the leader of the Revolutionary Guard Corps’ elite Quds Force, Soleimani was key in supporting and coordinating with Iran’s allies across the region, especially in Iraq.\"),\n",
       " Sentence(\"How we got here: Tensions had been escalating between Iran and the United States since Trump pulled out of an Obama-era nuclear deal, and they spiked shortly before the airstrike.\"),\n",
       " Sentence(\"What happens next: Iran responded to Soleimani’s death by launching missile strikes at two bases hosting U.S. forces in Iraq.\")]"
      ]
     },
     "execution_count": 22,
     "metadata": {},
     "output_type": "execute_result"
    }
   ],
   "source": [
    "obj.sentences"
   ]
  },
  {
   "cell_type": "markdown",
   "metadata": {},
   "source": [
    "# Translating the whole article to Spanish"
   ]
  },
  {
   "cell_type": "code",
   "execution_count": 25,
   "metadata": {},
   "outputs": [
    {
     "data": {
      "text/plain": [
       "TextBlob(\"Conflicto de EE. UU. Con Irán: lo que debe leer Esto es lo que necesita saber para comprender lo que significa este momento en las relaciones entre EE. UU. E Irán.\n",
       "Lo que sucedió: el presidente Trump ordenó un ataque con aviones no tripulados cerca del aeropuerto de Bagdad, matando al mayor general Qasem Soleimani, el comandante militar más poderoso de Irán y líder de sus fuerzas de operaciones especiales en el extranjero.\n",
       "Quién fue Soleimani: Como líder de la fuerza Quds de élite del Cuerpo de la Guardia Revolucionaria, Soleimani fue clave en el apoyo y la coordinación con los aliados de Irán en toda la región, especialmente en Irak.\n",
       "Cómo llegamos aquí: las tensiones habían ido en aumento entre Irán y Estados Unidos desde que Trump se retiró de un acuerdo nuclear de la era de Obama, y ​​se dispararon poco antes del ataque aéreo.\n",
       "Lo que sucede después: Irán respondió a la muerte de Soleimani lanzando ataques con misiles en dos bases que albergan a las fuerzas estadounidenses en Irak.\")"
      ]
     },
     "execution_count": 25,
     "metadata": {},
     "output_type": "execute_result"
    }
   ],
   "source": [
    "obj.translate(to=\"es\")"
   ]
  },
  {
   "cell_type": "markdown",
   "metadata": {},
   "source": [
    "# Identify the language using texblob"
   ]
  },
  {
   "cell_type": "code",
   "execution_count": 30,
   "metadata": {},
   "outputs": [
    {
     "data": {
      "text/plain": [
       "'hi'"
      ]
     },
     "execution_count": 30,
     "metadata": {},
     "output_type": "execute_result"
    }
   ],
   "source": [
    "b=TextBlob(u\"मैं ठीक हुँ ।\")\n",
    "b.detect_language()"
   ]
  },
  {
   "cell_type": "markdown",
   "metadata": {},
   "source": [
    "# Translate the above sentence using textblob"
   ]
  },
  {
   "cell_type": "code",
   "execution_count": 31,
   "metadata": {},
   "outputs": [
    {
     "data": {
      "text/plain": [
       "TextBlob(\"I'm fine\")"
      ]
     },
     "execution_count": 31,
     "metadata": {},
     "output_type": "execute_result"
    }
   ],
   "source": [
    "b.translate(to=\"en\")"
   ]
  },
  {
   "cell_type": "code",
   "execution_count": 32,
   "metadata": {},
   "outputs": [
    {
     "name": "stdout",
     "output_type": "stream",
     "text": [
      "Image used for the article\n",
      "https://www.washingtonpost.com/resizer/dzTz1rfw_yBZdwj-W8Il-8bUzbI=/1440x0/smart/arc-anglerfish-washpost-prod-washpost.s3.amazonaws.com/public/UVR3PVBP5II6VFY3IO7MH74YMA.jpg\n",
      "n\n",
      "Authors of the article\n",
      "['Josh Rogin', 'Columnist Covering Foreign Policy', 'National Security']\n",
      "n\n",
      "Text of the article\n",
      "U.S. conflict with Iran: What you need to read\n",
      "\n",
      "Here’s what you need to know to understand what this moment means in U.S.-Iran relations.\n",
      "\n",
      "What happened: President Trump ordered a drone strike near the Baghdad airport, killing Maj. Gen. Qasem Soleimani, Iran’s most powerful military commander and leader of its special-operations forces abroad.\n",
      "\n",
      "Who was Soleimani: As the leader of the Revolutionary Guard Corps’ elite Quds Force, Soleimani was key in supporting and coordinating with Iran’s allies across the region, especially in Iraq. Soleimani’s influence was imprinted on various Shiite militias that fought U.S. troops.\n",
      "\n",
      "How we got here: Tensions had been escalating between Iran and the United States since Trump pulled out of an Obama-era nuclear deal, and they spiked shortly before the airstrike. The strikes that killed Soleimani were carried out after the death of a U.S. contractor in a rocket attack against a military base in Kirkuk, Iraq, that the United States blamed on Kataib Hezbollah, an Iran-backed militia.\n",
      "\n",
      "What happens next: Iran responded to Soleimani’s death by launching missile strikes at two bases hosting U.S. forces in Iraq. No casualties were reported. In an address to the nation, Trump announced that new sanctions will be imposed on Tehran.\n",
      "n\n",
      "Keywords of the article\n",
      "['soleimanis', 'soleimani', 'strikes', 'trump', 'states', 'need', 'iran', 'iraq', 'united', 'nuclear', 'irans', 'bomb', 'retaliation', 'military', 'race']\n",
      "n\n"
     ]
    }
   ],
   "source": [
    "# To extract image in the article\n",
    "print(\"Image used for the article\")\n",
    "print(article.top_image)\n",
    "print(\"n\")\n",
    "\n",
    "# To extract author of the article\n",
    "print(\"Authors of the article\")\n",
    "print(article.authors)\n",
    "print(\"n\")\n",
    "\n",
    "# To extract Text of the article\n",
    "print(\"Text of the article\")\n",
    "print(article.text)\n",
    "print(\"n\")\n",
    "\n",
    "# To extract the keywords of the artice\n",
    "print(\"Keywords of the article\")\n",
    "print(article.keywords)\n",
    "print(\"n\")"
   ]
  },
  {
   "cell_type": "code",
   "execution_count": null,
   "metadata": {},
   "outputs": [],
   "source": []
  }
 ],
 "metadata": {
  "kernelspec": {
   "display_name": "Python 3",
   "language": "python",
   "name": "python3"
  },
  "language_info": {
   "codemirror_mode": {
    "name": "ipython",
    "version": 3
   },
   "file_extension": ".py",
   "mimetype": "text/x-python",
   "name": "python",
   "nbconvert_exporter": "python",
   "pygments_lexer": "ipython3",
   "version": "3.6.5"
  }
 },
 "nbformat": 4,
 "nbformat_minor": 2
}
